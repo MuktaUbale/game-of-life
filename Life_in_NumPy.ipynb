{
  "cells": [
    {
      "cell_type": "markdown",
      "metadata": {
        "id": "view-in-github",
        "colab_type": "text"
      },
      "source": [
        "<a href=\"https://colab.research.google.com/github/MuktaUbale/game-of-life/blob/main/Life_in_NumPy.ipynb\" target=\"_parent\"><img src=\"https://colab.research.google.com/assets/colab-badge.svg\" alt=\"Open In Colab\"/></a>"
      ]
    },
    {
      "cell_type": "markdown",
      "metadata": {
        "id": "OKi-b5kmdo_Y"
      },
      "source": [
        "# NumPy Project: Create a Life implementation"
      ]
    },
    {
      "cell_type": "code",
      "execution_count": null,
      "metadata": {
        "id": "1CI648AEMNsp"
      },
      "outputs": [],
      "source": [
        "import numpy as np\n",
        "from IPython.display import clear_output\n",
        "import time\n",
        "import matplotlib.pyplot as plt\n",
        "%matplotlib inline"
      ]
    },
    {
      "cell_type": "markdown",
      "metadata": {
        "id": "gMd2nOtkMNsw"
      },
      "source": [
        "## Introduction\n",
        "---\n",
        "From Wikipedia:\n",
        "> The Game of Life, also known simply as Life, is a cellular automaton devised by the British mathematician John Horton Conway in 1970. It is a zero-player game, meaning that its evolution is determined by its initial state, requiring no further input. One interacts with the Game of Life by creating an initial configuration and observing how it evolves.\n",
        "\n",
        "> The universe of the Game of Life is an infinite, two-dimensional orthogonal grid of square cells, each of which is in one of two possible states, live or dead, (or populated and unpopulated, respectively). **Every cell interacts with its eight neighbours, which are the cells that are horizontally, vertically, or diagonally adjacent.**\n",
        "\n",
        "After given a starting state (aka seed), cells will live or die in each generation/iteration based on the rules here (also  from Wikipedia):\n",
        "\n",
        "### Rules of Life:\n",
        "1. If a living cell has fewer than 2 living neighbors, it dies (loneliness)\n",
        "\n",
        "2. If a living cell has 2-3 living neighbors, it continues to live\n",
        "\n",
        "3. If a living cell has more than 3 living neighbors, it dies (overpopulation)\n",
        "\n",
        "4. If a dead cell has exactly 3 living neighbors, it becomes alive (reproduction).\n",
        "\n",
        "### Example implementation:\n",
        "Here's a site that you can use to see how it works: https://conwaylife.com/."
      ]
    },
    {
      "cell_type": "markdown",
      "metadata": {
        "id": "0vV6Ra-uMNsx"
      },
      "source": [
        "### Condensed rules:\n",
        "For coding though, we'll condense these 4 rules into 3:\n",
        "\n",
        "1. Any living cell with 2 or 3 living neighbors live.\n",
        "2. Any dead cell with exactly 3 living neighbors comes to (new) life.\n",
        "3. All other cells die or stay dead."
      ]
    },
    {
      "cell_type": "markdown",
      "metadata": {
        "id": "-a8e6qRdMNsx"
      },
      "source": [
        "## The \"living space\"\n",
        "\n",
        "By now, you might already have an idea of how to implement this game in a traditionally Pythonic way, with for loops and lists. However, we will use NumPy arrays instead.  It will be faster and much more elegant with NumPy.\n",
        "\n",
        "In this case, 0 will represent a dead cell while 1 will represent a living cell. And instead of an infinite universe, our cells' \"living space\" will be limited to just the size of a NumPy array, excluding a border of size 1. (Having this extra border will useful for calculations.)\n",
        "\n",
        "For instance, in the following NumPy array,\n",
        "```\n",
        "Z=np.array([[0, 0],\n",
        "            [0, 0]])\n",
        "```\n",
        "there is no living space (because there's a border of size 1; it's all border).\n",
        "\n",
        "Another example: in the following array,\n",
        "```\n",
        "Z=np.array([[0, 0, 0, 0, 0],\n",
        "           [0, 1, 1, 0, 0],\n",
        "           [0, 0, 0, 0, 0],\n",
        "           [0, 1, 0, 1, 0],\n",
        "           [0, 0, 0, 0, 0]])\n",
        "```\n",
        "there are 9 cells in the living space (4 of which are \"alive\"), out of 25 cells total."
      ]
    },
    {
      "cell_type": "markdown",
      "metadata": {
        "id": "dTos9iKGdo_c"
      },
      "source": [
        "### Warm-up exercise: slicing"
      ]
    },
    {
      "cell_type": "markdown",
      "metadata": {
        "id": "yg7_HQDpdo_c"
      },
      "source": [
        "Use slicing to set the living space of the `Z` array to all ones."
      ]
    },
    {
      "cell_type": "code",
      "execution_count": null,
      "metadata": {
        "id": "p7FOY_mJdo_c"
      },
      "outputs": [],
      "source": [
        "Z=np.array([[0, 0, 0, 0, 0],\n",
        "           [0, 1, 1, 0, 0],\n",
        "           [0, 0, 0, 0, 0],\n",
        "           [0, 1, 0, 1, 0],\n",
        "           [0, 0, 0, 0, 0]])"
      ]
    },
    {
      "cell_type": "code",
      "execution_count": null,
      "metadata": {
        "colab": {
          "base_uri": "https://localhost:8080/"
        },
        "id": "ffZMOsn0do_d",
        "outputId": "51163453-e45d-44b7-99c6-1d0b272bf749"
      },
      "outputs": [
        {
          "output_type": "execute_result",
          "data": {
            "text/plain": [
              "array([[0, 0, 0, 0, 0],\n",
              "       [0, 1, 1, 1, 0],\n",
              "       [0, 1, 1, 1, 0],\n",
              "       [0, 1, 1, 1, 0],\n",
              "       [0, 0, 0, 0, 0]])"
            ]
          },
          "metadata": {},
          "execution_count": 8
        }
      ],
      "source": [
        "Z[1:-1,1:-1] = np.ones(Z[1:-1,1:-1].shape)\n",
        "# Better: Z[1:-1,1:-1] = 1\n",
        "Z"
      ]
    },
    {
      "cell_type": "markdown",
      "metadata": {
        "id": "zbLvJhhedo_d"
      },
      "source": [
        "### Warm-up exercise: Boolean masking\n",
        "Exercise: Suppose you have a Boolean array, `bool_n`, And suppose you have an array of zeroes, `new_arr` with the same shape.  Set all of the corresponding entries in new_arr to 0 and 1 depending on the False and True entries in bool_n."
      ]
    },
    {
      "cell_type": "code",
      "execution_count": null,
      "metadata": {
        "id": "AfH4Fh6EMNs5"
      },
      "outputs": [],
      "source": [
        "bool_n = np.array([[False, False, False, False],\n",
        "                   [False, False, False, False],\n",
        "                   [False,  True,  True,  True],\n",
        "                   [False, False, False, False]])\n",
        "new_arr = np.zeros(bool_n.shape) # Create a blank array"
      ]
    },
    {
      "cell_type": "code",
      "execution_count": null,
      "metadata": {
        "colab": {
          "base_uri": "https://localhost:8080/"
        },
        "id": "5Cqs6zmQdo_d",
        "outputId": "31b90c3c-7499-4e1b-9f70-80c52189bf63"
      },
      "outputs": [
        {
          "output_type": "execute_result",
          "data": {
            "text/plain": [
              "array([[0, 0, 0, 0],\n",
              "       [0, 0, 0, 0],\n",
              "       [0, 1, 1, 1],\n",
              "       [0, 0, 0, 0]])"
            ]
          },
          "metadata": {},
          "execution_count": 14
        }
      ],
      "source": [
        "new_arr[bool_n] = 1\n",
        "new_arr = new_arr.astype(int)\n",
        "new_arr"
      ]
    },
    {
      "cell_type": "markdown",
      "metadata": {
        "id": "pEqC9C4oMNsy"
      },
      "source": [
        "## Graphical representation: the show1 function\n",
        "For easier visualization, you can use the function `show1` below to visualize the above arrays.\n",
        "\n",
        "You don't need to understand this function, just know how to use it."
      ]
    },
    {
      "cell_type": "code",
      "execution_count": null,
      "metadata": {
        "id": "JnP4eNceMNsy"
      },
      "outputs": [],
      "source": [
        "def show1(Z): # graphically display the \"living space\" when passed an array\n",
        "    size = np.array(Z.shape)\n",
        "    dpi = .001\n",
        "    figsize= size[1]/float(dpi)*10,size[0]/float(dpi)*10\n",
        "    fig = plt.figure(figsize=figsize, dpi=dpi, facecolor=\"green\")\n",
        "    fig.add_axes([0.0, 0.0, 1.0, 1.0], frameon=False)\n",
        "    plt.imshow(Z,interpolation='nearest', cmap=plt.cm.gray_r)\n",
        "    plt.xticks([]), plt.yticks([])\n",
        "    plt.show()"
      ]
    },
    {
      "cell_type": "code",
      "execution_count": null,
      "metadata": {
        "colab": {
          "base_uri": "https://localhost:8080/",
          "height": 117
        },
        "id": "ok1UdL5DMNsy",
        "outputId": "da614c1b-5641-4f83-f28b-2cf803831895"
      },
      "outputs": [
        {
          "data": {
            "image/png": "[encoded data removed]",
            "text/plain": [
              "<Figure size 50x50 with 1 Axes>"
            ]
          },
          "metadata": {},
          "output_type": "display_data"
        },
        {
          "data": {
            "image/png": "[encoded data removed]",
            "text/plain": [
              "<Figure size 50x50 with 1 Axes>"
            ]
          },
          "metadata": {},
          "output_type": "display_data"
        }
      ],
      "source": [
        "Z=np.array([[0, 0, 0, 0, 0],\n",
        "           [0, 1, 1, 0, 0],\n",
        "           [0, 1, 0, 0, 0],\n",
        "           [0, 1, 0, 1, 0],\n",
        "           [0, 0, 0, 0, 0]])\n",
        "\n",
        "Z_2= np.array([[0, 0, 0, 0, 0],\n",
        "               [0, 1, 1, 0, 0],\n",
        "               [0, 1, 0, 0, 0],\n",
        "               [0, 0, 1, 0, 0],\n",
        "               [0, 0, 0, 0, 0]])\n",
        "show1(Z)\n",
        "show1(Z_2)"
      ]
    },
    {
      "cell_type": "markdown",
      "metadata": {
        "id": "G4ZHHnDCdo_f"
      },
      "source": [
        "# Part I: Writing the iterate_one_generation function\n",
        "We want to write a function `iterate_one_generation(living_space)`, which will accept a NumPy array `living_space` and return its \"next stage\": an array of the same shape, generated based on the rules of Life.\n",
        "\n",
        "For example, given the following array:\n",
        "```\n",
        "Z=np.array([[0, 0, 0, 0, 0],\n",
        "           [0, 1, 1, 0, 0],\n",
        "           [0, 1, 0, 0, 0],\n",
        "           [0, 1, 0, 1, 0],\n",
        "           [0, 0, 0, 0, 0]])\n",
        "```\n",
        "\n",
        "`iterate_one_generation(Z)` should return this array:\n",
        "```\n",
        "Z_2 = np.array([[0, 0, 0, 0, 0],\n",
        "                [0, 1, 1, 0, 0],\n",
        "                [0, 1, 0, 0, 0],\n",
        "                [0, 0, 1, 0, 0],\n",
        "                [0, 0, 0, 0, 0]])\n",
        "```\n",
        "\n",
        "**Constraint: In writing this function you will NOT be allowed to use any loops.**"
      ]
    },
    {
      "cell_type": "markdown",
      "metadata": {
        "id": "_R3aG93rdo_f"
      },
      "source": [
        "## Step I: The number-of-neighbors array\n",
        "\n",
        "To code the Game of Life, it will be necessary to create a \"number-of-neighbors array\" - that is, an array whose entries signify the number of neighbors that each position has.  The following exercise will be helpful.  "
      ]
    },
    {
      "cell_type": "markdown",
      "metadata": {
        "id": "uN0XFcrVMNs0"
      },
      "source": [
        "### Warm-up exercise: More slicing"
      ]
    },
    {
      "cell_type": "markdown",
      "metadata": {
        "id": "83EmyNA7MNs1"
      },
      "source": [
        "Slice the array `tmp` so that we have everything except the bottom two rows and the two columns on the right.\n",
        "```\n",
        "tmp = np.array([[0,0,0,0,0,0],\n",
        "                [0,0,0,1,0,0],\n",
        "                [0,1,0,1,0,0],\n",
        "                [0,0,1,1,0,0],\n",
        "                [0,0,0,0,0,0],\n",
        "                [0,0,0,0,0,0]])\n",
        "```"
      ]
    },
    {
      "cell_type": "markdown",
      "metadata": {
        "id": "T-iNzdQOdo_f"
      },
      "source": [
        "You should end up with something like this\n",
        "```\n",
        "array([[0, 0, 0, 0],\n",
        "       [0, 0, 0, 1],\n",
        "       [0, 1, 0, 1],\n",
        "       [0, 0, 1, 1]])\n",
        "```"
      ]
    },
    {
      "cell_type": "code",
      "execution_count": null,
      "metadata": {
        "id": "X7VQ7oBFMNs1"
      },
      "outputs": [],
      "source": [
        "tmp = np.array([[0,0,0,0,0,0],\n",
        "                [0,0,0,1,0,0],\n",
        "                [0,1,0,1,0,0],\n",
        "                [0,0,1,1,0,0],\n",
        "                [0,0,0,0,0,0],\n",
        "                [0,0,0,0,0,0]])"
      ]
    },
    {
      "cell_type": "code",
      "execution_count": null,
      "metadata": {
        "id": "yFyfWuOHdo_g"
      },
      "outputs": [],
      "source": [
        "# Slice the tmp array so that we have everything except the bottom 2 rows and right 2 columns.\n",
        "# your code here\n",
        "\n",
        "tmp[:-2,:-2]"
      ]
    },
    {
      "cell_type": "markdown",
      "metadata": {
        "id": "2SjHUwySMNs3"
      },
      "source": [
        "### Creating the number-of-neighbors array using slicing and adding\n",
        "\n",
        "Consider our tmp array above (where, recall, the zeroes around the edge are just a boundary - i.e., not part of the actual game).  Its \"number of neighbors\"-array looks like this:\n",
        "```\n",
        "array([[0, 0, 0, 0, 0, 0],\n",
        "       [0, 1, 3, 1, 2, 0],\n",
        "       [0, 1, 5, 3, 3, 0],\n",
        "       [0, 2, 3, 2, 2, 0],\n",
        "       [0, 1, 2, 2, 1, 0],\n",
        "       [0, 0, 0, 0, 0, 0]])\n",
        "```\n",
        "\n",
        "(The clever part:) **Use slicing and arithmetic** to generate the number of neighbors array for the 'Z' array (aka the tmp array) yourself below.  Hint: it will be the sum of some subarrays...."
      ]
    },
    {
      "cell_type": "code",
      "execution_count": null,
      "metadata": {
        "id": "rHwrdCzpMNs3"
      },
      "outputs": [],
      "source": [
        "Z = np.array([[0,0,0,0,0,0],\n",
        "              [0,0,0,1,0,0],\n",
        "              [0,1,0,1,0,0],\n",
        "              [0,0,1,1,0,0],\n",
        "              [0,0,0,0,0,0],\n",
        "              [0,0,0,0,0,0]])\n",
        "\n",
        "# Generate a number-of-neighbors array for Z\n",
        "# your code here"
      ]
    },
    {
      "cell_type": "markdown",
      "metadata": {
        "id": "MW1lHhTydo_h"
      },
      "source": [
        "## Step II: Creating the Birth/Survival array"
      ]
    },
    {
      "cell_type": "markdown",
      "metadata": {
        "id": "E4tXN-UeMNs3"
      },
      "source": [
        "Once you can count neighbors, you need to figure out how to apply the rules of life (which depend on the number of neighbors..."
      ]
    },
    {
      "cell_type": "markdown",
      "metadata": {
        "id": "PPSmsT7Tdo_h"
      },
      "source": [
        "### Exercise: Looking for entries with three neighbors\n",
        "\n",
        "Given the NumPy array `N` below,\n",
        "```\n",
        "N = np.array([ [1, 3, 1, 2],\n",
        "               [1, 5, 3, 3],\n",
        "               [2, 3, 2, 2],\n",
        "               [1, 2, 2, 1]  ])\n",
        "```\n",
        "make a new NumPy array `new_N` where `new_N[i,j]` is `True` if `N[i,j]` is 3 and `new_N[i,j]` is `False` otherwise.\n",
        "\n",
        "Your result should look like this:\n",
        "```\n",
        "array([[False,  True, False, False],\n",
        "       [False, False,  True,  True],\n",
        "       [False,  True, False, False],\n",
        "       [False, False, False, False]])\n",
        "```"
      ]
    },
    {
      "cell_type": "code",
      "execution_count": null,
      "metadata": {
        "id": "WSLgsi94MNs4",
        "scrolled": true
      },
      "outputs": [],
      "source": [
        "N = np.array([ [1, 3, 1, 2],\n",
        "               [1, 5, 3, 3],\n",
        "               [2, 3, 2, 2],\n",
        "               [1, 2, 2, 1]])\n",
        "\n",
        "# make a new NumPy `new_N` where `new_N[i,j]` is True if `N[i,j]` is 3\n",
        "# and `new_N[i,j]` is False otherwise\n",
        "# your code here"
      ]
    },
    {
      "cell_type": "markdown",
      "metadata": {
        "id": "HQ_r8xzwdo_h"
      },
      "source": [
        "### Exercises: Birth and Survival arrays"
      ]
    },
    {
      "cell_type": "markdown",
      "metadata": {
        "id": "aQJrg2NoMNs4"
      },
      "source": [
        "Exercises:\n",
        "\n",
        "1. Can you figure out which cells in the living space are dead and have exactly 3 neighbors (i.e., will be born in the next iteration)?\n",
        "2. How about which cells (again in the living space) are alive and have between 2-3 neighbors (i.e., will survive)?\n",
        "\n",
        "(Hint: use boolean operators and slicing)\n",
        "\n",
        "---\n",
        "\n",
        "Try it out with array `Z` below."
      ]
    },
    {
      "cell_type": "code",
      "execution_count": null,
      "metadata": {
        "id": "iMU5J_TnMNs4"
      },
      "outputs": [],
      "source": [
        "# try it!\n",
        "Z = np.array([[0,0,0,0,0,0],\n",
        "              [0,0,0,1,0,0],\n",
        "              [0,1,0,1,0,0],\n",
        "              [0,0,1,1,1,0],\n",
        "              [0,0,0,0,0,0],\n",
        "              [0,0,0,0,0,0]])"
      ]
    },
    {
      "cell_type": "code",
      "execution_count": null,
      "metadata": {
        "id": "uTEBzKs8do_i"
      },
      "outputs": [],
      "source": [
        "# birth array\n",
        "# your code here"
      ]
    },
    {
      "cell_type": "code",
      "execution_count": null,
      "metadata": {
        "id": "MwaglbDTdo_i"
      },
      "outputs": [],
      "source": [
        "# survival array\n",
        "# your code here"
      ]
    },
    {
      "cell_type": "markdown",
      "metadata": {
        "id": "vLnKxBckdo_i"
      },
      "source": [
        "You should have ended up with a birth array like this:\n",
        "```\n",
        "array([[False,  True, False, False],\n",
        "       [False, False, False, False],\n",
        "       [False, False, False, False],\n",
        "       [False, False,  True, False]])\n",
        "```\n",
        "\n",
        "and a survival array like this:\n",
        "```\n",
        "array([[False, False, False, False],\n",
        "       [False, False, False, False],\n",
        "       [False,  True,  True,  True],\n",
        "       [False, False, False, False]])\n",
        "```"
      ]
    },
    {
      "cell_type": "markdown",
      "metadata": {
        "id": "UcW-PZ54MNs5"
      },
      "source": [
        "## Step III: Writing the function"
      ]
    },
    {
      "cell_type": "markdown",
      "metadata": {
        "id": "jaZuc7G8MNs6"
      },
      "source": [
        "At this point, you have all the pieces necessary to build the function.\n",
        "For reference, here's a quick review of the game:\n",
        "\n",
        "> 0 will represent a dead cell while 1 will represent a living cell. Instead of an infinite universe, our cells' living space will be limited to just the size of a NumPy array without including a border of size 1. And here are the rules:\n",
        ">\n",
        "> 1. Any living cell with 2 or 3 living neighbors live\n",
        "> 2. Any dead cell with exactly 3 living neighbors live.\n",
        "> 3. All other cells die or stay dead :(\n",
        "\n",
        "Remember, **NO LOOPS** yet."
      ]
    },
    {
      "cell_type": "code",
      "execution_count": null,
      "metadata": {
        "id": "sW1ku1NWMNs6"
      },
      "outputs": [],
      "source": [
        "def iterate_one_generation(space):\n",
        "    # count the neighbors\n",
        "\n",
        "\n",
        "    # who will survive?\n",
        "\n",
        "\n",
        "\n",
        "    # who will be reproduced?\n",
        "\n",
        "    # apply rules\n",
        "    pass\n"
      ]
    },
    {
      "cell_type": "markdown",
      "metadata": {
        "id": "2NvXj3Jqdo_j"
      },
      "source": [
        "# Part II: Writing the Life program"
      ]
    },
    {
      "cell_type": "markdown",
      "metadata": {
        "id": "qrXVy0XNMNs6"
      },
      "source": [
        "## Testing your function\n",
        "**Lifting the constraint:** Okay, now you're allowed to use loops.\n",
        "\n",
        "Let's test your function.  Here is an initial state:"
      ]
    },
    {
      "cell_type": "code",
      "execution_count": null,
      "metadata": {
        "id": "KNafJ0XRdo_j",
        "outputId": "01151a4e-9042-4e96-927c-1d4f6d6780d7"
      },
      "outputs": [
        {
          "data": {
            "image/png": "[encoded data removed]",
            "text/plain": [
              "<Figure size 100x100 with 1 Axes>"
            ]
          },
          "metadata": {},
          "output_type": "display_data"
        }
      ],
      "source": [
        "living_space = np.array([[0., 0., 0., 0., 0., 0., 0., 0., 0., 0.],\n",
        "       [0., 1., 1., 1., 0., 1., 0., 0., 1., 0.],\n",
        "       [0., 1., 0., 1., 0., 0., 0., 0., 0., 0.],\n",
        "       [0., 1., 1., 1., 0., 1., 1., 1., 0., 0.],\n",
        "       [0., 0., 1., 0., 0., 1., 1., 0., 0., 0.],\n",
        "       [0., 0., 1., 0., 1., 1., 0., 1., 0., 0.],\n",
        "       [0., 1., 1., 1., 0., 1., 1., 1., 1., 0.],\n",
        "       [0., 0., 0., 0., 1., 1., 1., 1., 0., 0.],\n",
        "       [0., 0., 0., 0., 1., 1., 1., 0., 0., 0.],\n",
        "       [0., 0., 0., 0., 0., 0., 0., 0., 0., 0.]])\n",
        "show1(living_space)"
      ]
    },
    {
      "cell_type": "markdown",
      "metadata": {
        "id": "sdhRe05Wdo_j"
      },
      "source": [
        "Run the above state through 100 iterations of your function: you should end up with the following.\n",
        "```\n",
        "array([[0., 0., 0., 0., 0., 0., 0., 0., 0., 0.],\n",
        "       [0., 0., 0., 0., 1., 0., 0., 0., 0., 0.],\n",
        "       [0., 0., 0., 1., 0., 1., 0., 0., 0., 0.],\n",
        "       [0., 0., 0., 0., 1., 0., 0., 0., 0., 0.],\n",
        "       [0., 0., 0., 0., 0., 0., 0., 0., 0., 0.],\n",
        "       [0., 0., 0., 0., 0., 0., 0., 0., 0., 0.],\n",
        "       [0., 0., 0., 0., 0., 0., 0., 1., 1., 0.],\n",
        "       [0., 0., 0., 0., 0., 0., 0., 1., 1., 0.],\n",
        "       [0., 0., 0., 0., 0., 0., 0., 0., 0., 0.],\n",
        "       [0., 0., 0., 0., 0., 0., 0., 0., 0., 0.]])\n",
        "```\n",
        "The image should look kind of like a flower and square after 100 runs (it technically stabilizes in less 100 runs though).\n"
      ]
    },
    {
      "cell_type": "code",
      "execution_count": null,
      "metadata": {
        "id": "rs6cibjbMNs6",
        "outputId": "74845843-d730-48f8-c6ce-d655f22542b1"
      },
      "outputs": [
        {
          "data": {
            "image/png": "[encoded data removed]",
            "text/plain": [
              "<Figure size 100x100 with 1 Axes>"
            ]
          },
          "metadata": {},
          "output_type": "display_data"
        },
        {
          "data": {
            "image/png": "[encoded data removed]",
            "text/plain": [
              "<Figure size 100x100 with 1 Axes>"
            ]
          },
          "metadata": {},
          "output_type": "display_data"
        }
      ],
      "source": [
        "# Iterating through 100 generations:\n",
        "for _ in range(100):\n",
        "    iterate_one_generation(living_space) # you may have to adjust this line depending on what your function does\n",
        "\n",
        "show1(living_space)"
      ]
    },
    {
      "cell_type": "markdown",
      "metadata": {
        "id": "EK8KnM1SMNs6"
      },
      "source": [
        "## Better graphical representation: show\n",
        "\n",
        "The new `show` function below will accept two more optional parameters: the animation will pause for `sleepT` seconds after showing an image. A `scale` will help determine our image size in relation to the NumPy array size passed in. A larger scale number indicates a larger image while a smaller scale should give a smaller image."
      ]
    },
    {
      "cell_type": "code",
      "execution_count": null,
      "metadata": {
        "id": "jVKrmKhHMNs7"
      },
      "outputs": [],
      "source": [
        "def show(Z, sleepT=0, scale=1):\n",
        "    clear_output(wait=True)\n",
        "    size = np.array(Z.shape)\n",
        "    dpi = 75.0\n",
        "    figsize= size[1]/float(dpi)*scale,size[0]/float(dpi)*scale\n",
        "    fig = plt.figure(figsize=figsize, dpi=dpi, facecolor=\"green\")\n",
        "    fig.add_axes([0.0, 0.0, 1.0, 1.0], frameon=False)\n",
        "    plt.imshow(Z,interpolation='nearest', cmap=plt.cm.gray_r)\n",
        "    plt.xticks([]), plt.yticks([])\n",
        "    plt.show()\n",
        "    time.sleep(sleepT)"
      ]
    },
    {
      "cell_type": "markdown",
      "metadata": {
        "id": "Efar_BBtMNs7"
      },
      "source": [
        "Now, try running your function on a random `seed` or `living_space`.\n",
        "The function `np.random.randint` will be useful (https://NumPy.org/doc/stable/reference/random/generated/NumPy.random.randint.html).\n",
        "\n",
        "Make sure to change all variables that have been initialized to `-1`; you'll have problems if you don't."
      ]
    },
    {
      "cell_type": "code",
      "execution_count": null,
      "metadata": {
        "id": "Pe6nbS0DMNs7",
        "outputId": "de8817c4-511f-4b48-b11b-3326e14b376a"
      },
      "outputs": [
        {
          "data": {
            "image/png": "[encoded data removed]",
            "text/plain": [
              "<Figure size 514x258 with 1 Axes>"
            ]
          },
          "metadata": {},
          "output_type": "display_data"
        }
      ],
      "source": [
        "# h, w will represent the height, width of your cells' living space\n",
        "# change the numbers as you please\n",
        "h = 256\n",
        "w = 512\n",
        "\n",
        "# create a random seed (NumPy) with (h,w) shape\n",
        "seed = np.random.randint(0,2, (h,w))\n",
        "Z = np.zeros((h+2, w+2)) # creating an array of zeroes of the right size\n",
        "Z[1:-1, 1:-1] = seed # copying the seed into the living_space of Z\n",
        "\n",
        "# change scale and sleepT to what you want\n",
        "sleep_time = -1\n",
        "scale =\n",
        "\n",
        "show(Z, sleepT=sleep_time, scale=scale)\n",
        "\n",
        "# feel free to change the # of generations passed after testing\n",
        "for _ in range(10):\n",
        "    iterate_one_generation(Z) # you may have to adjust this line depending on what your function does\n",
        "    show(Z, sleepT=sleep_time, scale=scale)"
      ]
    },
    {
      "cell_type": "markdown",
      "metadata": {
        "id": "JwwBFPUUMNs7"
      },
      "source": [
        "---\n",
        "If you're done early, here are a few...\n",
        "\n",
        "## Challenges\n",
        "\n",
        "1. What patterns do you notice between iterations?\n",
        "2. Try to find patterns that use a minimal number of live cells but take a maximal number of generations to stabilize.  What kind of common qualities do they have?\n",
        "3. Check out patterns that often occur at Wiki (look it up!). Can you reproduce them together from one seed? How long do they last before one of them disappears or can the patterns coexist together?\n",
        "3. Try experimenting with the rules! Why did Conway choose these rules?"
      ]
    },
    {
      "cell_type": "code",
      "execution_count": null,
      "metadata": {
        "id": "Fxbqjmdrdo_k"
      },
      "outputs": [],
      "source": []
    }
  ],
  "metadata": {
    "colab": {
      "provenance": [],
      "include_colab_link": true
    },
    "kernelspec": {
      "display_name": "Python 3",
      "language": "python",
      "name": "python3"
    },
    "language_info": {
      "codemirror_mode": {
        "name": "ipython",
        "version": 3
      },
      "file_extension": ".py",
      "mimetype": "text/x-python",
      "name": "python",
      "nbconvert_exporter": "python",
      "pygments_lexer": "ipython3",
      "version": "3.8.8"
    },
    "toc-autonumbering": true,
    "toc-showmarkdowntxt": false
  },
  "nbformat": 4,
  "nbformat_minor": 0
}